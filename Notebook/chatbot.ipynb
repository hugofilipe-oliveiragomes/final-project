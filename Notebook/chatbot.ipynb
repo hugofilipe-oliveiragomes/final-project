{
 "cells": [
  {
   "cell_type": "code",
   "execution_count": 1,
   "id": "eec61cc4-9c27-4754-8e16-df3dc19de43e",
   "metadata": {},
   "outputs": [],
   "source": [
    "import pandas as pd"
   ]
  },
  {
   "cell_type": "code",
   "execution_count": 2,
   "id": "be839dd0-feee-424b-a6c8-cc790d22a792",
   "metadata": {},
   "outputs": [],
   "source": [
    "from chatterbot import ChatBot"
   ]
  },
  {
   "cell_type": "code",
   "execution_count": 3,
   "id": "0c5770c4-4f7a-49c8-b78e-bfc3a3ce532f",
   "metadata": {},
   "outputs": [],
   "source": [
    "from chatterbot import ChatBot\n",
    "from chatterbot.trainers import ListTrainer"
   ]
  },
  {
   "cell_type": "code",
   "execution_count": 4,
   "id": "f8d0b0b3-bcf7-4da4-8388-91e76ca399c5",
   "metadata": {},
   "outputs": [],
   "source": [
    "t1=pd.read_csv(\"../Trainingdrowl/IGFEJ-BJD1.csv\")\n",
    "t2=pd.read_csv(\"../Trainingdrowl/IGFEJ-BJD2.csv\")\n",
    "t3=pd.read_csv(\"../Trainingdrowl/IGFEJ-BJD3.csv\")\n",
    "t4=pd.read_csv(\"../Trainingdrowl/IGFEJ-BJD4.csv\")\n",
    "t5=pd.read_csv(\"../Trainingdrowl/IGFEJ-BJD5.csv\")\n",
    "t6=pd.read_csv(\"../Trainingdrowl/IGFEJ-BJD6.csv\")\n",
    "t7=pd.read_csv(\"../Trainingdrowl/IGFEJ-BJD7.csv\")\n",
    "t8=pd.read_csv(\"../Trainingdrowl/IGFEJ-BJD8.csv\")\n",
    "t9=pd.read_csv(\"../Trainingdrowl/IGFEJ-BJD9.csv\")\n",
    "t10=pd.read_csv(\"../Trainingdrowl/IGFEJ-BJD10.csv\")\n",
    "t11=pd.read_csv(\"../Trainingdrowl/IGFEJ-BJD11.csv\")\n",
    "t12=pd.read_csv(\"../Trainingdrowl/IGFEJ-BJD12.csv\")\n",
    "t13=pd.read_csv(\"../Trainingdrowl/IGFEJ-BJD13.csv\")\n",
    "t14=pd.read_csv(\"../Trainingdrowl/IGFEJ-BJD14.csv\")\n",
    "t15=pd.read_csv(\"../Trainingdrowl/IGFEJ-BJD15.csv\")\n",
    "t16=pd.read_csv(\"../Trainingdrowl/IGFEJ-BJD16.csv\")\n",
    "t17=pd.read_csv(\"../Trainingdrowl/IGFEJ-BJD17.csv\")\n",
    "t18=pd.read_csv(\"../Trainingdrowl/IGFEJ-BJD18.csv\")"
   ]
  },
  {
   "cell_type": "code",
   "execution_count": 5,
   "id": "9560580f-1bc4-4c39-8b95-7a32239b838f",
   "metadata": {},
   "outputs": [
    {
     "name": "stdout",
     "output_type": "stream",
     "text": [
      "List Trainer: [                    ] 1%"
     ]
    },
    {
     "name": "stderr",
     "output_type": "stream",
     "text": [
      "[nltk_data] Downloading package averaged_perceptron_tagger to\n",
      "[nltk_data]     /Users/hugogomes/nltk_data...\n",
      "[nltk_data]   Package averaged_perceptron_tagger is already up-to-\n",
      "[nltk_data]       date!\n",
      "[nltk_data] Downloading package punkt to /Users/hugogomes/nltk_data...\n",
      "[nltk_data]   Package punkt is already up-to-date!\n",
      "[nltk_data] Downloading package stopwords to\n",
      "[nltk_data]     /Users/hugogomes/nltk_data...\n",
      "[nltk_data]   Package stopwords is already up-to-date!\n"
     ]
    },
    {
     "name": "stdout",
     "output_type": "stream",
     "text": [
      "List Trainer: [                    ] 1%%"
     ]
    }
   ],
   "source": [
    "chatbot = ChatBot(\"Chatpot\")\n",
    "\n",
    "trainer = ListTrainer(chatbot)\n",
    "trainer.train(t1)\n",
    "trainer.train(t2)"
   ]
  },
  {
   "cell_type": "code",
   "execution_count": 6,
   "id": "8ab79537-7f60-4533-b0c9-7ac527f53bfb",
   "metadata": {},
   "outputs": [
    {
     "name": "stderr",
     "output_type": "stream",
     "text": [
      "[nltk_data] Downloading package averaged_perceptron_tagger to\n",
      "[nltk_data]     /Users/hugogomes/nltk_data...\n",
      "[nltk_data]   Package averaged_perceptron_tagger is already up-to-\n",
      "[nltk_data]       date!\n",
      "[nltk_data] Downloading package punkt to /Users/hugogomes/nltk_data...\n",
      "[nltk_data]   Package punkt is already up-to-date!\n",
      "[nltk_data] Downloading package stopwords to\n",
      "[nltk_data]     /Users/hugogomes/nltk_data...\n",
      "[nltk_data]   Package stopwords is already up-to-date!\n"
     ]
    },
    {
     "name": "stdin",
     "output_type": "stream",
     "text": [
      ">  artigo\n"
     ]
    },
    {
     "name": "stdout",
     "output_type": "stream",
     "text": [
      "Field8\n"
     ]
    },
    {
     "name": "stdin",
     "output_type": "stream",
     "text": [
      ">  exit\n"
     ]
    }
   ],
   "source": [
    "chatbot = ChatBot(\"Chatpot\")\n",
    "\n",
    "exit_conditions = (\":q\", \"quit\", \"exit\")\n",
    "while True:\n",
    "    query = input(\"> \")\n",
    "    if query in exit_conditions:\n",
    "        break\n",
    "    else:\n",
    "        print(f\"{chatbot.get_response(query)}\")"
   ]
  },
  {
   "cell_type": "code",
   "execution_count": null,
   "id": "1e04b159-4995-46b6-9697-9259877313d4",
   "metadata": {},
   "outputs": [],
   "source": []
  }
 ],
 "metadata": {
  "kernelspec": {
   "display_name": "drowl",
   "language": "python",
   "name": "drowl"
  },
  "language_info": {
   "codemirror_mode": {
    "name": "ipython",
    "version": 3
   },
   "file_extension": ".py",
   "mimetype": "text/x-python",
   "name": "python",
   "nbconvert_exporter": "python",
   "pygments_lexer": "ipython3",
   "version": "3.11.7"
  }
 },
 "nbformat": 4,
 "nbformat_minor": 5
}
